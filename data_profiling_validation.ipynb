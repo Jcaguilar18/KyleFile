{
 "cells": [
  {
   "cell_type": "markdown",
   "metadata": {},
   "source": [
    "## Group 4 - Lab Exercise 3"
   ]
  },
  {
   "cell_type": "markdown",
   "metadata": {},
   "source": [
    "**This file is only used for describing what does the raw data look like and guides us how to process it.**\n",
    "**It is not intended to be included in the data pipelines**"
   ]
  },
  {
   "cell_type": "code",
   "execution_count": 1,
   "metadata": {},
   "outputs": [],
   "source": [
    "import pandas as pd\n",
    "import numpy as np"
   ]
  },
  {
   "cell_type": "code",
   "execution_count": 2,
   "metadata": {},
   "outputs": [],
   "source": [
    "#Loading the data\n",
    "df_branch_service = pd.read_json(\"branch_service_transaction_info.json\")\n",
    "df_customer_transaction = pd.read_json(\"customer_transaction_info.json\")\n",
    "df_merged = pd.merge(df_customer_transaction, df_branch_service)"
   ]
  },
  {
   "cell_type": "markdown",
   "metadata": {},
   "source": [
    "# **Data Profiling and Validation**\n"
   ]
  },
  {
   "cell_type": "markdown",
   "metadata": {},
   "source": [
    "## Looking at the Raw Data\n"
   ]
  },
  {
   "cell_type": "markdown",
   "metadata": {},
   "source": [
    "using .sample() for randomized lookup"
   ]
  },
  {
   "cell_type": "code",
   "execution_count": 3,
   "metadata": {},
   "outputs": [
    {
     "data": {
      "text/html": [
       "<div>\n",
       "<style scoped>\n",
       "    .dataframe tbody tr th:only-of-type {\n",
       "        vertical-align: middle;\n",
       "    }\n",
       "\n",
       "    .dataframe tbody tr th {\n",
       "        vertical-align: top;\n",
       "    }\n",
       "\n",
       "    .dataframe thead th {\n",
       "        text-align: right;\n",
       "    }\n",
       "</style>\n",
       "<table border=\"1\" class=\"dataframe\">\n",
       "  <thead>\n",
       "    <tr style=\"text-align: right;\">\n",
       "      <th></th>\n",
       "      <th>txn_id</th>\n",
       "      <th>branch_name</th>\n",
       "      <th>service</th>\n",
       "      <th>price</th>\n",
       "    </tr>\n",
       "  </thead>\n",
       "  <tbody>\n",
       "    <tr>\n",
       "      <th>109981</th>\n",
       "      <td>TXN-28049</td>\n",
       "      <td>Starmall</td>\n",
       "      <td>FootSpa</td>\n",
       "      <td>100.121230</td>\n",
       "    </tr>\n",
       "    <tr>\n",
       "      <th>122197</th>\n",
       "      <td>TXN-41430</td>\n",
       "      <td>SmallMall</td>\n",
       "      <td>Pedicure</td>\n",
       "      <td>77.987989</td>\n",
       "    </tr>\n",
       "    <tr>\n",
       "      <th>5314</th>\n",
       "      <td>TXN-17556</td>\n",
       "      <td>SmallMall</td>\n",
       "      <td>HairColor</td>\n",
       "      <td>NaN</td>\n",
       "    </tr>\n",
       "    <tr>\n",
       "      <th>58252</th>\n",
       "      <td>TXN-02258</td>\n",
       "      <td>Starmall</td>\n",
       "      <td>FootSpa</td>\n",
       "      <td>100.121230</td>\n",
       "    </tr>\n",
       "    <tr>\n",
       "      <th>121794</th>\n",
       "      <td>TXN-43458</td>\n",
       "      <td>RobinsonsMall</td>\n",
       "      <td>Manicure</td>\n",
       "      <td>55.232400</td>\n",
       "    </tr>\n",
       "    <tr>\n",
       "      <th>16894</th>\n",
       "      <td>TXN-03818</td>\n",
       "      <td>None</td>\n",
       "      <td>HairColor</td>\n",
       "      <td>NaN</td>\n",
       "    </tr>\n",
       "    <tr>\n",
       "      <th>2125</th>\n",
       "      <td>TXN-23734</td>\n",
       "      <td>RobinsonsMall</td>\n",
       "      <td>Pedicure</td>\n",
       "      <td>NaN</td>\n",
       "    </tr>\n",
       "    <tr>\n",
       "      <th>20871</th>\n",
       "      <td>TXN-44137</td>\n",
       "      <td>MayMall</td>\n",
       "      <td>Manicure</td>\n",
       "      <td>0.000000</td>\n",
       "    </tr>\n",
       "    <tr>\n",
       "      <th>81502</th>\n",
       "      <td>TXN-14098</td>\n",
       "      <td>MallOfAsia</td>\n",
       "      <td>Pedicure</td>\n",
       "      <td>77.987989</td>\n",
       "    </tr>\n",
       "    <tr>\n",
       "      <th>94531</th>\n",
       "      <td>TXN-16795</td>\n",
       "      <td>Megamall</td>\n",
       "      <td>Manicure</td>\n",
       "      <td>55.232400</td>\n",
       "    </tr>\n",
       "  </tbody>\n",
       "</table>\n",
       "</div>"
      ],
      "text/plain": [
       "           txn_id    branch_name    service       price\n",
       "109981  TXN-28049       Starmall    FootSpa  100.121230\n",
       "122197  TXN-41430      SmallMall   Pedicure   77.987989\n",
       "5314    TXN-17556      SmallMall  HairColor         NaN\n",
       "58252   TXN-02258       Starmall    FootSpa  100.121230\n",
       "121794  TXN-43458  RobinsonsMall   Manicure   55.232400\n",
       "16894   TXN-03818           None  HairColor         NaN\n",
       "2125    TXN-23734  RobinsonsMall   Pedicure         NaN\n",
       "20871   TXN-44137        MayMall   Manicure    0.000000\n",
       "81502   TXN-14098     MallOfAsia   Pedicure   77.987989\n",
       "94531   TXN-16795       Megamall   Manicure   55.232400"
      ]
     },
     "execution_count": 3,
     "metadata": {},
     "output_type": "execute_result"
    }
   ],
   "source": [
    "df_branch_service.sample(10)"
   ]
  },
  {
   "cell_type": "code",
   "execution_count": 4,
   "metadata": {},
   "outputs": [
    {
     "data": {
      "text/html": [
       "<div>\n",
       "<style scoped>\n",
       "    .dataframe tbody tr th:only-of-type {\n",
       "        vertical-align: middle;\n",
       "    }\n",
       "\n",
       "    .dataframe tbody tr th {\n",
       "        vertical-align: top;\n",
       "    }\n",
       "\n",
       "    .dataframe thead th {\n",
       "        text-align: right;\n",
       "    }\n",
       "</style>\n",
       "<table border=\"1\" class=\"dataframe\">\n",
       "  <thead>\n",
       "    <tr style=\"text-align: right;\">\n",
       "      <th></th>\n",
       "      <th>txn_id</th>\n",
       "      <th>avail_date</th>\n",
       "      <th>last_name</th>\n",
       "      <th>first_name</th>\n",
       "      <th>birthday</th>\n",
       "    </tr>\n",
       "  </thead>\n",
       "  <tbody>\n",
       "    <tr>\n",
       "      <th>16124</th>\n",
       "      <td>TXN-32266</td>\n",
       "      <td>2017-10-10</td>\n",
       "      <td>BERNHARD</td>\n",
       "      <td>ZION</td>\n",
       "      <td>2001-06-15</td>\n",
       "    </tr>\n",
       "    <tr>\n",
       "      <th>20802</th>\n",
       "      <td>TXN-64462</td>\n",
       "      <td>2028-04-28</td>\n",
       "      <td>dietrich</td>\n",
       "      <td>amelie</td>\n",
       "      <td>1992-05-09</td>\n",
       "    </tr>\n",
       "    <tr>\n",
       "      <th>90676</th>\n",
       "      <td>TXN-23097</td>\n",
       "      <td>2028-01-04</td>\n",
       "      <td>Stracke</td>\n",
       "      <td>Daphne</td>\n",
       "      <td>2008-08-30</td>\n",
       "    </tr>\n",
       "    <tr>\n",
       "      <th>54354</th>\n",
       "      <td>TXN-50431</td>\n",
       "      <td>2028-04-07</td>\n",
       "      <td>Volkman</td>\n",
       "      <td>Ophelia</td>\n",
       "      <td>1999-03-31</td>\n",
       "    </tr>\n",
       "    <tr>\n",
       "      <th>6418</th>\n",
       "      <td>TXN-44586</td>\n",
       "      <td>2022-07-22</td>\n",
       "      <td>HOMENICK</td>\n",
       "      <td>SIGMUND</td>\n",
       "      <td>2007-01-13</td>\n",
       "    </tr>\n",
       "    <tr>\n",
       "      <th>76595</th>\n",
       "      <td>TXN-03133</td>\n",
       "      <td>2012-11-13</td>\n",
       "      <td>Hartmann,,,,,,,,</td>\n",
       "      <td>Veronica........</td>\n",
       "      <td>2004-04-20</td>\n",
       "    </tr>\n",
       "    <tr>\n",
       "      <th>71844</th>\n",
       "      <td>TXN-50202</td>\n",
       "      <td>2018-11-19</td>\n",
       "      <td>Miller,,,,,,,,</td>\n",
       "      <td>Haylee........</td>\n",
       "      <td>1993-08-19</td>\n",
       "    </tr>\n",
       "    <tr>\n",
       "      <th>42165</th>\n",
       "      <td>TXN-53512</td>\n",
       "      <td>2005-04-04</td>\n",
       "      <td>Wintheiser</td>\n",
       "      <td>Lazaro</td>\n",
       "      <td>2006-08-30</td>\n",
       "    </tr>\n",
       "    <tr>\n",
       "      <th>22404</th>\n",
       "      <td>TXN-60238</td>\n",
       "      <td>2022-10-21</td>\n",
       "      <td>rowe</td>\n",
       "      <td>hanna</td>\n",
       "      <td>1998-01-22</td>\n",
       "    </tr>\n",
       "    <tr>\n",
       "      <th>61595</th>\n",
       "      <td>TXN-24232</td>\n",
       "      <td>2023-09-14</td>\n",
       "      <td>Jacobi,,,,,,,,</td>\n",
       "      <td>Camille........</td>\n",
       "      <td>1992-10-02</td>\n",
       "    </tr>\n",
       "  </tbody>\n",
       "</table>\n",
       "</div>"
      ],
      "text/plain": [
       "          txn_id  avail_date           last_name        first_name    birthday\n",
       "16124  TXN-32266  2017-10-10            BERNHARD              ZION  2001-06-15\n",
       "20802  TXN-64462  2028-04-28            dietrich            amelie  1992-05-09\n",
       "90676  TXN-23097  2028-01-04             Stracke            Daphne  2008-08-30\n",
       "54354  TXN-50431  2028-04-07             Volkman           Ophelia  1999-03-31\n",
       "6418   TXN-44586  2022-07-22            HOMENICK           SIGMUND  2007-01-13\n",
       "76595  TXN-03133  2012-11-13    Hartmann,,,,,,,,  Veronica........  2004-04-20\n",
       "71844  TXN-50202  2018-11-19      Miller,,,,,,,,    Haylee........  1993-08-19\n",
       "42165  TXN-53512  2005-04-04          Wintheiser            Lazaro  2006-08-30\n",
       "22404  TXN-60238  2022-10-21                rowe             hanna  1998-01-22\n",
       "61595  TXN-24232  2023-09-14      Jacobi,,,,,,,,   Camille........  1992-10-02"
      ]
     },
     "execution_count": 4,
     "metadata": {},
     "output_type": "execute_result"
    }
   ],
   "source": [
    "df_customer_transaction.sample(10)"
   ]
  },
  {
   "cell_type": "markdown",
   "metadata": {},
   "source": [
    "## Checking for Duplicates"
   ]
  },
  {
   "cell_type": "markdown",
   "metadata": {},
   "source": [
    ".shape to get row and column count"
   ]
  },
  {
   "cell_type": "code",
   "execution_count": 5,
   "metadata": {},
   "outputs": [
    {
     "name": "stdout",
     "output_type": "stream",
     "text": [
      "(130653, 4)\n",
      "(130653, 5)\n"
     ]
    }
   ],
   "source": [
    "print(df_branch_service.shape)\n",
    "print(df_customer_transaction.shape)"
   ]
  },
  {
   "cell_type": "markdown",
   "metadata": {},
   "source": [
    "to count unique txn_id, use .nunique()"
   ]
  },
  {
   "cell_type": "code",
   "execution_count": 6,
   "metadata": {},
   "outputs": [
    {
     "name": "stdout",
     "output_type": "stream",
     "text": [
      "62354\n",
      "62354\n"
     ]
    }
   ],
   "source": [
    "print(df_branch_service['txn_id'].nunique())\n",
    "print(df_customer_transaction['txn_id'].nunique())"
   ]
  },
  {
   "cell_type": "markdown",
   "metadata": {},
   "source": [
    "difference between the original and unique txn_id row count means that there are **duplicate rows**"
   ]
  },
  {
   "cell_type": "markdown",
   "metadata": {},
   "source": [
    "## Checking for Empty Values"
   ]
  },
  {
   "cell_type": "markdown",
   "metadata": {},
   "source": [
    "checking null values count per column"
   ]
  },
  {
   "cell_type": "code",
   "execution_count": 7,
   "metadata": {},
   "outputs": [
    {
     "data": {
      "text/plain": [
       "txn_id             0\n",
       "branch_name    10308\n",
       "service            0\n",
       "price          20000\n",
       "dtype: int64"
      ]
     },
     "execution_count": 7,
     "metadata": {},
     "output_type": "execute_result"
    }
   ],
   "source": [
    "df_branch_service.isnull().sum()"
   ]
  },
  {
   "cell_type": "code",
   "execution_count": 8,
   "metadata": {},
   "outputs": [
    {
     "data": {
      "text/plain": [
       "txn_id        0\n",
       "avail_date    0\n",
       "last_name     0\n",
       "first_name    0\n",
       "birthday      0\n",
       "dtype: int64"
      ]
     },
     "execution_count": 8,
     "metadata": {},
     "output_type": "execute_result"
    }
   ],
   "source": [
    "df_customer_transaction.isnull().sum()"
   ]
  },
  {
   "cell_type": "markdown",
   "metadata": {},
   "source": [
    "branch_name and price have null values"
   ]
  },
  {
   "cell_type": "markdown",
   "metadata": {},
   "source": [
    "### Empty Values of branch_name Column"
   ]
  },
  {
   "cell_type": "markdown",
   "metadata": {},
   "source": [
    "look at the possible values of branch_name"
   ]
  },
  {
   "cell_type": "code",
   "execution_count": 9,
   "metadata": {},
   "outputs": [
    {
     "data": {
      "text/plain": [
       "array(['MallOfAsia', 'Starmall', 'SmallMall', 'MayMall', 'FrankMall',\n",
       "       'Megamall', 'RobinsonsMall', '', None, 'N/A'], dtype=object)"
      ]
     },
     "execution_count": 9,
     "metadata": {},
     "output_type": "execute_result"
    }
   ],
   "source": [
    "df_branch_service['branch_name'].unique()"
   ]
  },
  {
   "cell_type": "markdown",
   "metadata": {},
   "source": [
    "two types of empty value in the branch_name column: '' & None ('N/A' not considered as empty since it has a different meaning)"
   ]
  },
  {
   "cell_type": "markdown",
   "metadata": {},
   "source": [
    "Let '' also be null so that we can use one fill method for both of the possible empty values"
   ]
  },
  {
   "cell_type": "markdown",
   "metadata": {},
   "source": [
    "Can fill the empty values up via forward fill or backward fill"
   ]
  },
  {
   "cell_type": "code",
   "execution_count": 10,
   "metadata": {},
   "outputs": [],
   "source": [
    "df_branch_service['branch_name'] = df_branch_service['branch_name'].ffill().bfill()"
   ]
  },
  {
   "cell_type": "markdown",
   "metadata": {},
   "source": [
    "### Empty Values of price Column"
   ]
  },
  {
   "cell_type": "markdown",
   "metadata": {},
   "source": [
    "since there are empty values on a numerical column, it is best to mean fill its empty values"
   ]
  },
  {
   "cell_type": "markdown",
   "metadata": {},
   "source": [
    "look at the price mean, the group mean from service, and the group mean from branch_name & service"
   ]
  },
  {
   "cell_type": "code",
   "execution_count": 11,
   "metadata": {},
   "outputs": [
    {
     "data": {
      "text/plain": [
       "count    110653.000000\n",
       "mean         95.966969\n",
       "std         115.874117\n",
       "min           0.000000\n",
       "25%          30.123790\n",
       "50%          66.123457\n",
       "75%          88.093930\n",
       "max         400.231230\n",
       "Name: price, dtype: float64"
      ]
     },
     "execution_count": 11,
     "metadata": {},
     "output_type": "execute_result"
    }
   ],
   "source": [
    "df_branch_service['price'].describe()"
   ]
  },
  {
   "cell_type": "code",
   "execution_count": 12,
   "metadata": {},
   "outputs": [
    {
     "data": {
      "text/html": [
       "<div>\n",
       "<style scoped>\n",
       "    .dataframe tbody tr th:only-of-type {\n",
       "        vertical-align: middle;\n",
       "    }\n",
       "\n",
       "    .dataframe tbody tr th {\n",
       "        vertical-align: top;\n",
       "    }\n",
       "\n",
       "    .dataframe thead th {\n",
       "        text-align: right;\n",
       "    }\n",
       "</style>\n",
       "<table border=\"1\" class=\"dataframe\">\n",
       "  <thead>\n",
       "    <tr style=\"text-align: right;\">\n",
       "      <th></th>\n",
       "      <th>count</th>\n",
       "      <th>mean</th>\n",
       "      <th>std</th>\n",
       "      <th>min</th>\n",
       "      <th>25%</th>\n",
       "      <th>50%</th>\n",
       "      <th>75%</th>\n",
       "      <th>max</th>\n",
       "    </tr>\n",
       "    <tr>\n",
       "      <th>service</th>\n",
       "      <th></th>\n",
       "      <th></th>\n",
       "      <th></th>\n",
       "      <th></th>\n",
       "      <th></th>\n",
       "      <th></th>\n",
       "      <th></th>\n",
       "      <th></th>\n",
       "    </tr>\n",
       "  </thead>\n",
       "  <tbody>\n",
       "    <tr>\n",
       "      <th>FootSpa</th>\n",
       "      <td>15835.0</td>\n",
       "      <td>82.240407</td>\n",
       "      <td>38.348651</td>\n",
       "      <td>0.0</td>\n",
       "      <td>100.121230</td>\n",
       "      <td>100.121230</td>\n",
       "      <td>100.121230</td>\n",
       "      <td>100.121230</td>\n",
       "    </tr>\n",
       "    <tr>\n",
       "      <th>HairColor</th>\n",
       "      <td>15768.0</td>\n",
       "      <td>72.143386</td>\n",
       "      <td>33.923432</td>\n",
       "      <td>0.0</td>\n",
       "      <td>88.093930</td>\n",
       "      <td>88.093930</td>\n",
       "      <td>88.093930</td>\n",
       "      <td>88.093930</td>\n",
       "    </tr>\n",
       "    <tr>\n",
       "      <th>Haircut</th>\n",
       "      <td>15394.0</td>\n",
       "      <td>54.306799</td>\n",
       "      <td>25.333112</td>\n",
       "      <td>0.0</td>\n",
       "      <td>66.123457</td>\n",
       "      <td>66.123457</td>\n",
       "      <td>66.123457</td>\n",
       "      <td>66.123457</td>\n",
       "    </tr>\n",
       "    <tr>\n",
       "      <th>Manicure</th>\n",
       "      <td>15676.0</td>\n",
       "      <td>45.275347</td>\n",
       "      <td>21.232941</td>\n",
       "      <td>0.0</td>\n",
       "      <td>55.232400</td>\n",
       "      <td>55.232400</td>\n",
       "      <td>55.232400</td>\n",
       "      <td>55.232400</td>\n",
       "    </tr>\n",
       "    <tr>\n",
       "      <th>NailColor</th>\n",
       "      <td>16207.0</td>\n",
       "      <td>24.369285</td>\n",
       "      <td>11.842374</td>\n",
       "      <td>0.0</td>\n",
       "      <td>30.123790</td>\n",
       "      <td>30.123790</td>\n",
       "      <td>30.123790</td>\n",
       "      <td>30.123790</td>\n",
       "    </tr>\n",
       "    <tr>\n",
       "      <th>Pedicure</th>\n",
       "      <td>15830.0</td>\n",
       "      <td>64.503900</td>\n",
       "      <td>29.492902</td>\n",
       "      <td>0.0</td>\n",
       "      <td>77.987989</td>\n",
       "      <td>77.987989</td>\n",
       "      <td>77.987989</td>\n",
       "      <td>77.987989</td>\n",
       "    </tr>\n",
       "    <tr>\n",
       "      <th>Rebond</th>\n",
       "      <td>15943.0</td>\n",
       "      <td>327.254238</td>\n",
       "      <td>154.542965</td>\n",
       "      <td>0.0</td>\n",
       "      <td>400.231230</td>\n",
       "      <td>400.231230</td>\n",
       "      <td>400.231230</td>\n",
       "      <td>400.231230</td>\n",
       "    </tr>\n",
       "  </tbody>\n",
       "</table>\n",
       "</div>"
      ],
      "text/plain": [
       "             count        mean         std  min         25%         50%  \\\n",
       "service                                                                   \n",
       "FootSpa    15835.0   82.240407   38.348651  0.0  100.121230  100.121230   \n",
       "HairColor  15768.0   72.143386   33.923432  0.0   88.093930   88.093930   \n",
       "Haircut    15394.0   54.306799   25.333112  0.0   66.123457   66.123457   \n",
       "Manicure   15676.0   45.275347   21.232941  0.0   55.232400   55.232400   \n",
       "NailColor  16207.0   24.369285   11.842374  0.0   30.123790   30.123790   \n",
       "Pedicure   15830.0   64.503900   29.492902  0.0   77.987989   77.987989   \n",
       "Rebond     15943.0  327.254238  154.542965  0.0  400.231230  400.231230   \n",
       "\n",
       "                  75%         max  \n",
       "service                            \n",
       "FootSpa    100.121230  100.121230  \n",
       "HairColor   88.093930   88.093930  \n",
       "Haircut     66.123457   66.123457  \n",
       "Manicure    55.232400   55.232400  \n",
       "NailColor   30.123790   30.123790  \n",
       "Pedicure    77.987989   77.987989  \n",
       "Rebond     400.231230  400.231230  "
      ]
     },
     "execution_count": 12,
     "metadata": {},
     "output_type": "execute_result"
    }
   ],
   "source": [
    "df_branch_service.groupby(['service'])['price'].describe()"
   ]
  },
  {
   "cell_type": "code",
   "execution_count": 13,
   "metadata": {},
   "outputs": [
    {
     "data": {
      "text/html": [
       "<div>\n",
       "<style scoped>\n",
       "    .dataframe tbody tr th:only-of-type {\n",
       "        vertical-align: middle;\n",
       "    }\n",
       "\n",
       "    .dataframe tbody tr th {\n",
       "        vertical-align: top;\n",
       "    }\n",
       "\n",
       "    .dataframe thead th {\n",
       "        text-align: right;\n",
       "    }\n",
       "</style>\n",
       "<table border=\"1\" class=\"dataframe\">\n",
       "  <thead>\n",
       "    <tr style=\"text-align: right;\">\n",
       "      <th></th>\n",
       "      <th></th>\n",
       "      <th>count</th>\n",
       "      <th>mean</th>\n",
       "      <th>std</th>\n",
       "      <th>min</th>\n",
       "      <th>25%</th>\n",
       "      <th>50%</th>\n",
       "      <th>75%</th>\n",
       "      <th>max</th>\n",
       "    </tr>\n",
       "    <tr>\n",
       "      <th>branch_name</th>\n",
       "      <th>service</th>\n",
       "      <th></th>\n",
       "      <th></th>\n",
       "      <th></th>\n",
       "      <th></th>\n",
       "      <th></th>\n",
       "      <th></th>\n",
       "      <th></th>\n",
       "      <th></th>\n",
       "    </tr>\n",
       "  </thead>\n",
       "  <tbody>\n",
       "    <tr>\n",
       "      <th rowspan=\"5\" valign=\"top\"></th>\n",
       "      <th>FootSpa</th>\n",
       "      <td>56.0</td>\n",
       "      <td>82.242439</td>\n",
       "      <td>38.692762</td>\n",
       "      <td>0.0</td>\n",
       "      <td>100.121230</td>\n",
       "      <td>100.121230</td>\n",
       "      <td>100.121230</td>\n",
       "      <td>100.121230</td>\n",
       "    </tr>\n",
       "    <tr>\n",
       "      <th>HairColor</th>\n",
       "      <td>48.0</td>\n",
       "      <td>71.576318</td>\n",
       "      <td>34.748015</td>\n",
       "      <td>0.0</td>\n",
       "      <td>88.093930</td>\n",
       "      <td>88.093930</td>\n",
       "      <td>88.093930</td>\n",
       "      <td>88.093930</td>\n",
       "    </tr>\n",
       "    <tr>\n",
       "      <th>Haircut</th>\n",
       "      <td>1786.0</td>\n",
       "      <td>53.239379</td>\n",
       "      <td>26.197797</td>\n",
       "      <td>0.0</td>\n",
       "      <td>66.123457</td>\n",
       "      <td>66.123457</td>\n",
       "      <td>66.123457</td>\n",
       "      <td>66.123457</td>\n",
       "    </tr>\n",
       "    <tr>\n",
       "      <th>Manicure</th>\n",
       "      <td>66.0</td>\n",
       "      <td>49.374418</td>\n",
       "      <td>17.137217</td>\n",
       "      <td>0.0</td>\n",
       "      <td>55.232400</td>\n",
       "      <td>55.232400</td>\n",
       "      <td>55.232400</td>\n",
       "      <td>55.232400</td>\n",
       "    </tr>\n",
       "    <tr>\n",
       "      <th>Pedicure</th>\n",
       "      <td>57.0</td>\n",
       "      <td>67.042306</td>\n",
       "      <td>27.329980</td>\n",
       "      <td>0.0</td>\n",
       "      <td>77.987989</td>\n",
       "      <td>77.987989</td>\n",
       "      <td>77.987989</td>\n",
       "      <td>77.987989</td>\n",
       "    </tr>\n",
       "    <tr>\n",
       "      <th>...</th>\n",
       "      <th>...</th>\n",
       "      <td>...</td>\n",
       "      <td>...</td>\n",
       "      <td>...</td>\n",
       "      <td>...</td>\n",
       "      <td>...</td>\n",
       "      <td>...</td>\n",
       "      <td>...</td>\n",
       "      <td>...</td>\n",
       "    </tr>\n",
       "    <tr>\n",
       "      <th rowspan=\"5\" valign=\"top\">Starmall</th>\n",
       "      <th>Haircut</th>\n",
       "      <td>1859.0</td>\n",
       "      <td>54.243288</td>\n",
       "      <td>25.392248</td>\n",
       "      <td>0.0</td>\n",
       "      <td>66.123457</td>\n",
       "      <td>66.123457</td>\n",
       "      <td>66.123457</td>\n",
       "      <td>66.123457</td>\n",
       "    </tr>\n",
       "    <tr>\n",
       "      <th>Manicure</th>\n",
       "      <td>2260.0</td>\n",
       "      <td>45.456754</td>\n",
       "      <td>21.084730</td>\n",
       "      <td>0.0</td>\n",
       "      <td>55.232400</td>\n",
       "      <td>55.232400</td>\n",
       "      <td>55.232400</td>\n",
       "      <td>55.232400</td>\n",
       "    </tr>\n",
       "    <tr>\n",
       "      <th>NailColor</th>\n",
       "      <td>1972.0</td>\n",
       "      <td>24.257900</td>\n",
       "      <td>11.931738</td>\n",
       "      <td>0.0</td>\n",
       "      <td>30.123790</td>\n",
       "      <td>30.123790</td>\n",
       "      <td>30.123790</td>\n",
       "      <td>30.123790</td>\n",
       "    </tr>\n",
       "    <tr>\n",
       "      <th>Pedicure</th>\n",
       "      <td>2209.0</td>\n",
       "      <td>64.431000</td>\n",
       "      <td>29.561562</td>\n",
       "      <td>0.0</td>\n",
       "      <td>77.987989</td>\n",
       "      <td>77.987989</td>\n",
       "      <td>77.987989</td>\n",
       "      <td>77.987989</td>\n",
       "    </tr>\n",
       "    <tr>\n",
       "      <th>Rebond</th>\n",
       "      <td>2262.0</td>\n",
       "      <td>328.040982</td>\n",
       "      <td>153.921518</td>\n",
       "      <td>0.0</td>\n",
       "      <td>400.231230</td>\n",
       "      <td>400.231230</td>\n",
       "      <td>400.231230</td>\n",
       "      <td>400.231230</td>\n",
       "    </tr>\n",
       "  </tbody>\n",
       "</table>\n",
       "<p>61 rows × 8 columns</p>\n",
       "</div>"
      ],
      "text/plain": [
       "                        count        mean         std  min         25%  \\\n",
       "branch_name service                                                      \n",
       "            FootSpa      56.0   82.242439   38.692762  0.0  100.121230   \n",
       "            HairColor    48.0   71.576318   34.748015  0.0   88.093930   \n",
       "            Haircut    1786.0   53.239379   26.197797  0.0   66.123457   \n",
       "            Manicure     66.0   49.374418   17.137217  0.0   55.232400   \n",
       "            Pedicure     57.0   67.042306   27.329980  0.0   77.987989   \n",
       "...                       ...         ...         ...  ...         ...   \n",
       "Starmall    Haircut    1859.0   54.243288   25.392248  0.0   66.123457   \n",
       "            Manicure   2260.0   45.456754   21.084730  0.0   55.232400   \n",
       "            NailColor  1972.0   24.257900   11.931738  0.0   30.123790   \n",
       "            Pedicure   2209.0   64.431000   29.561562  0.0   77.987989   \n",
       "            Rebond     2262.0  328.040982  153.921518  0.0  400.231230   \n",
       "\n",
       "                              50%         75%         max  \n",
       "branch_name service                                        \n",
       "            FootSpa    100.121230  100.121230  100.121230  \n",
       "            HairColor   88.093930   88.093930   88.093930  \n",
       "            Haircut     66.123457   66.123457   66.123457  \n",
       "            Manicure    55.232400   55.232400   55.232400  \n",
       "            Pedicure    77.987989   77.987989   77.987989  \n",
       "...                           ...         ...         ...  \n",
       "Starmall    Haircut     66.123457   66.123457   66.123457  \n",
       "            Manicure    55.232400   55.232400   55.232400  \n",
       "            NailColor   30.123790   30.123790   30.123790  \n",
       "            Pedicure    77.987989   77.987989   77.987989  \n",
       "            Rebond     400.231230  400.231230  400.231230  \n",
       "\n",
       "[61 rows x 8 columns]"
      ]
     },
     "execution_count": 13,
     "metadata": {},
     "output_type": "execute_result"
    }
   ],
   "source": [
    "df_branch_service.groupby(['branch_name', 'service'])['price'].describe()"
   ]
  },
  {
   "cell_type": "markdown",
   "metadata": {},
   "source": [
    "it is best to use the group mean from branch_name and service to accurately fill up null values in the specific group"
   ]
  },
  {
   "cell_type": "markdown",
   "metadata": {},
   "source": [
    "## Standardizing Data"
   ]
  },
  {
   "cell_type": "markdown",
   "metadata": {},
   "source": [
    "### Dates"
   ]
  },
  {
   "cell_type": "code",
   "execution_count": 14,
   "metadata": {},
   "outputs": [
    {
     "name": "stdout",
     "output_type": "stream",
     "text": [
      "<bound method NDFrame.describe of 0         2030-09-08\n",
      "1         2030-09-08\n",
      "2         2012-04-03\n",
      "3         2012-04-03\n",
      "4         2026-05-26\n",
      "             ...    \n",
      "404182    2025-01-05\n",
      "404183    2025-01-05\n",
      "404184    2025-01-05\n",
      "404185    2025-01-05\n",
      "404186    2025-01-05\n",
      "Name: avail_date, Length: 404187, dtype: object>\n",
      "<bound method NDFrame.describe of 0         1990-07-08\n",
      "1         1990-07-08\n",
      "2         1999-04-08\n",
      "3         1999-04-08\n",
      "4         2000-11-26\n",
      "             ...    \n",
      "404182    1993-01-10\n",
      "404183    1993-01-10\n",
      "404184    1993-01-10\n",
      "404185    1993-01-10\n",
      "404186    1993-01-10\n",
      "Name: birthday, Length: 404187, dtype: object>\n"
     ]
    }
   ],
   "source": [
    "print(df_merged['avail_date'].describe)\n",
    "print(df_merged['birthday'].describe)"
   ]
  },
  {
   "cell_type": "markdown",
   "metadata": {},
   "source": [
    "currently the two dates in our data is in object data type, convert it to datetime data type"
   ]
  },
  {
   "cell_type": "code",
   "execution_count": 15,
   "metadata": {},
   "outputs": [],
   "source": [
    "df_merged['avail_date'] = pd.to_datetime(df_merged['avail_date'], format='%Y-%m-%d')\n",
    "df_merged['birthday'] = pd.to_datetime(df_merged['birthday'], format='%Y-%m-%d')"
   ]
  },
  {
   "cell_type": "markdown",
   "metadata": {},
   "source": [
    "There are certain rows that are **impossible** to happen looking at our dates columns:"
   ]
  },
  {
   "cell_type": "code",
   "execution_count": 16,
   "metadata": {},
   "outputs": [
    {
     "name": "stdout",
     "output_type": "stream",
     "text": [
      "2030-12-30 00:00:00\n"
     ]
    }
   ],
   "source": [
    "print(df_merged['avail_date'].max())"
   ]
  },
  {
   "cell_type": "markdown",
   "metadata": {},
   "source": [
    "dates that are **later than the current date** are invalid and should be removed"
   ]
  },
  {
   "cell_type": "code",
   "execution_count": 17,
   "metadata": {},
   "outputs": [],
   "source": [
    "from datetime import date\n",
    "today = str(date.today())\n",
    "df_merged = df_merged[(df_merged['avail_date'] <= today) | (df_merged['birthday'] <= today)]"
   ]
  },
  {
   "cell_type": "markdown",
   "metadata": {},
   "source": [
    "avail_date that happens **before** the birthday are also invalid and should be removed"
   ]
  },
  {
   "cell_type": "code",
   "execution_count": 18,
   "metadata": {},
   "outputs": [],
   "source": [
    "df_merged = df_merged[(df_merged['avail_date'] > df_merged['birthday'])]"
   ]
  },
  {
   "cell_type": "markdown",
   "metadata": {},
   "source": [
    "### first_name & last_name"
   ]
  },
  {
   "cell_type": "markdown",
   "metadata": {},
   "source": [
    "The name columns have values that contains special characters. Values in it also does not stick with one format"
   ]
  },
  {
   "cell_type": "code",
   "execution_count": 19,
   "metadata": {},
   "outputs": [
    {
     "data": {
      "text/html": [
       "<div>\n",
       "<style scoped>\n",
       "    .dataframe tbody tr th:only-of-type {\n",
       "        vertical-align: middle;\n",
       "    }\n",
       "\n",
       "    .dataframe tbody tr th {\n",
       "        vertical-align: top;\n",
       "    }\n",
       "\n",
       "    .dataframe thead th {\n",
       "        text-align: right;\n",
       "    }\n",
       "</style>\n",
       "<table border=\"1\" class=\"dataframe\">\n",
       "  <thead>\n",
       "    <tr style=\"text-align: right;\">\n",
       "      <th></th>\n",
       "      <th>txn_id</th>\n",
       "      <th>avail_date</th>\n",
       "      <th>last_name</th>\n",
       "      <th>first_name</th>\n",
       "      <th>birthday</th>\n",
       "      <th>branch_name</th>\n",
       "      <th>service</th>\n",
       "      <th>price</th>\n",
       "    </tr>\n",
       "  </thead>\n",
       "  <tbody>\n",
       "    <tr>\n",
       "      <th>281756</th>\n",
       "      <td>TXN-52248</td>\n",
       "      <td>2018-03-25</td>\n",
       "      <td>Bergnaum,,,,,,,,</td>\n",
       "      <td>Janie........</td>\n",
       "      <td>2009-02-14</td>\n",
       "      <td>MayMall</td>\n",
       "      <td>Rebond</td>\n",
       "      <td>400.231230</td>\n",
       "    </tr>\n",
       "    <tr>\n",
       "      <th>274693</th>\n",
       "      <td>TXN-43825</td>\n",
       "      <td>2028-06-13</td>\n",
       "      <td>Mraz</td>\n",
       "      <td>Jose</td>\n",
       "      <td>1991-11-30</td>\n",
       "      <td>Starmall</td>\n",
       "      <td>HairColor</td>\n",
       "      <td>88.093930</td>\n",
       "    </tr>\n",
       "    <tr>\n",
       "      <th>262837</th>\n",
       "      <td>TXN-59575</td>\n",
       "      <td>2014-01-25</td>\n",
       "      <td>Kutch</td>\n",
       "      <td>Carissa</td>\n",
       "      <td>1992-02-16</td>\n",
       "      <td>MayMall</td>\n",
       "      <td>HairColor</td>\n",
       "      <td>88.093930</td>\n",
       "    </tr>\n",
       "    <tr>\n",
       "      <th>87939</th>\n",
       "      <td>TXN-18122</td>\n",
       "      <td>2024-04-04</td>\n",
       "      <td>WALKER</td>\n",
       "      <td>DOMENICK</td>\n",
       "      <td>2007-05-30</td>\n",
       "      <td>RobinsonsMall</td>\n",
       "      <td>HairColor</td>\n",
       "      <td>NaN</td>\n",
       "    </tr>\n",
       "    <tr>\n",
       "      <th>48572</th>\n",
       "      <td>TXN-60191</td>\n",
       "      <td>2005-09-10</td>\n",
       "      <td>Cummings</td>\n",
       "      <td>Shanelle</td>\n",
       "      <td>2003-07-18</td>\n",
       "      <td>Megamall</td>\n",
       "      <td>HairColor</td>\n",
       "      <td>NaN</td>\n",
       "    </tr>\n",
       "    <tr>\n",
       "      <th>296052</th>\n",
       "      <td>TXN-25322</td>\n",
       "      <td>2014-06-12</td>\n",
       "      <td>Jerde,,,,,,,,</td>\n",
       "      <td>Jamil........</td>\n",
       "      <td>1990-05-28</td>\n",
       "      <td>Megamall</td>\n",
       "      <td>Pedicure</td>\n",
       "      <td>77.987989</td>\n",
       "    </tr>\n",
       "    <tr>\n",
       "      <th>160137</th>\n",
       "      <td>TXN-05547</td>\n",
       "      <td>2023-04-26</td>\n",
       "      <td>HESSEL</td>\n",
       "      <td>JUNIOR</td>\n",
       "      <td>2004-10-06</td>\n",
       "      <td>FrankMall</td>\n",
       "      <td>FootSpa</td>\n",
       "      <td>NaN</td>\n",
       "    </tr>\n",
       "    <tr>\n",
       "      <th>12537</th>\n",
       "      <td>TXN-32409</td>\n",
       "      <td>2020-11-15</td>\n",
       "      <td>GLEICHNER</td>\n",
       "      <td>KATHRYNE</td>\n",
       "      <td>1992-07-15</td>\n",
       "      <td>RobinsonsMall</td>\n",
       "      <td>Haircut</td>\n",
       "      <td>NaN</td>\n",
       "    </tr>\n",
       "    <tr>\n",
       "      <th>196402</th>\n",
       "      <td>TXN-41803</td>\n",
       "      <td>2007-12-19</td>\n",
       "      <td>mosciski</td>\n",
       "      <td>rae</td>\n",
       "      <td>2004-01-21</td>\n",
       "      <td>FrankMall</td>\n",
       "      <td>Haircut</td>\n",
       "      <td>0.000000</td>\n",
       "    </tr>\n",
       "    <tr>\n",
       "      <th>137705</th>\n",
       "      <td>TXN-51440</td>\n",
       "      <td>2024-12-23</td>\n",
       "      <td>Schuster</td>\n",
       "      <td>Maegan</td>\n",
       "      <td>2002-12-23</td>\n",
       "      <td>Starmall</td>\n",
       "      <td>FootSpa</td>\n",
       "      <td>100.121230</td>\n",
       "    </tr>\n",
       "    <tr>\n",
       "      <th>58687</th>\n",
       "      <td>TXN-41690</td>\n",
       "      <td>2006-04-19</td>\n",
       "      <td>Graham</td>\n",
       "      <td>Enid</td>\n",
       "      <td>1990-10-23</td>\n",
       "      <td>Megamall</td>\n",
       "      <td>Haircut</td>\n",
       "      <td>NaN</td>\n",
       "    </tr>\n",
       "    <tr>\n",
       "      <th>379284</th>\n",
       "      <td>TXN-61381</td>\n",
       "      <td>2025-08-15</td>\n",
       "      <td>Jaskolski</td>\n",
       "      <td>Bobbie</td>\n",
       "      <td>2003-06-24</td>\n",
       "      <td>FrankMall</td>\n",
       "      <td>NailColor</td>\n",
       "      <td>30.123790</td>\n",
       "    </tr>\n",
       "    <tr>\n",
       "      <th>399625</th>\n",
       "      <td>TXN-33452</td>\n",
       "      <td>2025-06-11</td>\n",
       "      <td>Anderson</td>\n",
       "      <td>Xander</td>\n",
       "      <td>1994-04-08</td>\n",
       "      <td>RobinsonsMall</td>\n",
       "      <td>NailColor</td>\n",
       "      <td>30.123790</td>\n",
       "    </tr>\n",
       "    <tr>\n",
       "      <th>26868</th>\n",
       "      <td>TXN-43167</td>\n",
       "      <td>2028-08-31</td>\n",
       "      <td>FRIESEN</td>\n",
       "      <td>ANGELINA</td>\n",
       "      <td>1998-10-16</td>\n",
       "      <td>Starmall</td>\n",
       "      <td>Pedicure</td>\n",
       "      <td>77.987989</td>\n",
       "    </tr>\n",
       "    <tr>\n",
       "      <th>196306</th>\n",
       "      <td>TXN-56124</td>\n",
       "      <td>2012-12-19</td>\n",
       "      <td>hamill</td>\n",
       "      <td>aditya</td>\n",
       "      <td>1991-01-28</td>\n",
       "      <td>Megamall</td>\n",
       "      <td>Haircut</td>\n",
       "      <td>0.000000</td>\n",
       "    </tr>\n",
       "    <tr>\n",
       "      <th>282616</th>\n",
       "      <td>TXN-44439</td>\n",
       "      <td>2013-04-27</td>\n",
       "      <td>Harber,,,,,,,,</td>\n",
       "      <td>Enid........</td>\n",
       "      <td>2002-07-18</td>\n",
       "      <td>RobinsonsMall</td>\n",
       "      <td>NailColor</td>\n",
       "      <td>30.123790</td>\n",
       "    </tr>\n",
       "    <tr>\n",
       "      <th>305810</th>\n",
       "      <td>TXN-36735</td>\n",
       "      <td>2009-01-04</td>\n",
       "      <td>Thiel,,,,,,,,</td>\n",
       "      <td>Serenity........</td>\n",
       "      <td>1995-07-11</td>\n",
       "      <td>MayMall</td>\n",
       "      <td>Rebond</td>\n",
       "      <td>400.231230</td>\n",
       "    </tr>\n",
       "    <tr>\n",
       "      <th>113774</th>\n",
       "      <td>TXN-32145</td>\n",
       "      <td>2016-04-24</td>\n",
       "      <td>Hayes</td>\n",
       "      <td>Isaias</td>\n",
       "      <td>2003-06-03</td>\n",
       "      <td>FrankMall</td>\n",
       "      <td>Rebond</td>\n",
       "      <td>400.231230</td>\n",
       "    </tr>\n",
       "    <tr>\n",
       "      <th>221159</th>\n",
       "      <td>TXN-38441</td>\n",
       "      <td>2009-11-02</td>\n",
       "      <td>gaylord</td>\n",
       "      <td>marion</td>\n",
       "      <td>1994-12-17</td>\n",
       "      <td>MallOfAsia</td>\n",
       "      <td>NailColor</td>\n",
       "      <td>0.000000</td>\n",
       "    </tr>\n",
       "    <tr>\n",
       "      <th>350861</th>\n",
       "      <td>TXN-07080</td>\n",
       "      <td>2008-03-30</td>\n",
       "      <td>Klein</td>\n",
       "      <td>Berenice</td>\n",
       "      <td>1990-09-26</td>\n",
       "      <td>RobinsonsMall</td>\n",
       "      <td>Rebond</td>\n",
       "      <td>400.231230</td>\n",
       "    </tr>\n",
       "  </tbody>\n",
       "</table>\n",
       "</div>"
      ],
      "text/plain": [
       "           txn_id avail_date         last_name        first_name   birthday  \\\n",
       "281756  TXN-52248 2018-03-25  Bergnaum,,,,,,,,     Janie........ 2009-02-14   \n",
       "274693  TXN-43825 2028-06-13              Mraz              Jose 1991-11-30   \n",
       "262837  TXN-59575 2014-01-25             Kutch           Carissa 1992-02-16   \n",
       "87939   TXN-18122 2024-04-04            WALKER          DOMENICK 2007-05-30   \n",
       "48572   TXN-60191 2005-09-10          Cummings          Shanelle 2003-07-18   \n",
       "296052  TXN-25322 2014-06-12     Jerde,,,,,,,,     Jamil........ 1990-05-28   \n",
       "160137  TXN-05547 2023-04-26            HESSEL            JUNIOR 2004-10-06   \n",
       "12537   TXN-32409 2020-11-15         GLEICHNER          KATHRYNE 1992-07-15   \n",
       "196402  TXN-41803 2007-12-19          mosciski               rae 2004-01-21   \n",
       "137705  TXN-51440 2024-12-23          Schuster            Maegan 2002-12-23   \n",
       "58687   TXN-41690 2006-04-19            Graham              Enid 1990-10-23   \n",
       "379284  TXN-61381 2025-08-15         Jaskolski            Bobbie 2003-06-24   \n",
       "399625  TXN-33452 2025-06-11          Anderson            Xander 1994-04-08   \n",
       "26868   TXN-43167 2028-08-31           FRIESEN          ANGELINA 1998-10-16   \n",
       "196306  TXN-56124 2012-12-19            hamill            aditya 1991-01-28   \n",
       "282616  TXN-44439 2013-04-27    Harber,,,,,,,,      Enid........ 2002-07-18   \n",
       "305810  TXN-36735 2009-01-04     Thiel,,,,,,,,  Serenity........ 1995-07-11   \n",
       "113774  TXN-32145 2016-04-24             Hayes            Isaias 2003-06-03   \n",
       "221159  TXN-38441 2009-11-02           gaylord            marion 1994-12-17   \n",
       "350861  TXN-07080 2008-03-30             Klein          Berenice 1990-09-26   \n",
       "\n",
       "          branch_name    service       price  \n",
       "281756        MayMall     Rebond  400.231230  \n",
       "274693       Starmall  HairColor   88.093930  \n",
       "262837        MayMall  HairColor   88.093930  \n",
       "87939   RobinsonsMall  HairColor         NaN  \n",
       "48572        Megamall  HairColor         NaN  \n",
       "296052       Megamall   Pedicure   77.987989  \n",
       "160137      FrankMall    FootSpa         NaN  \n",
       "12537   RobinsonsMall    Haircut         NaN  \n",
       "196402      FrankMall    Haircut    0.000000  \n",
       "137705       Starmall    FootSpa  100.121230  \n",
       "58687        Megamall    Haircut         NaN  \n",
       "379284      FrankMall  NailColor   30.123790  \n",
       "399625  RobinsonsMall  NailColor   30.123790  \n",
       "26868        Starmall   Pedicure   77.987989  \n",
       "196306       Megamall    Haircut    0.000000  \n",
       "282616  RobinsonsMall  NailColor   30.123790  \n",
       "305810        MayMall     Rebond  400.231230  \n",
       "113774      FrankMall     Rebond  400.231230  \n",
       "221159     MallOfAsia  NailColor    0.000000  \n",
       "350861  RobinsonsMall     Rebond  400.231230  "
      ]
     },
     "execution_count": 19,
     "metadata": {},
     "output_type": "execute_result"
    }
   ],
   "source": [
    "df_merged.sample(20)"
   ]
  },
  {
   "cell_type": "markdown",
   "metadata": {},
   "source": [
    "only allow letters in this columns and stick to one format (e.g. all uppercase)"
   ]
  }
 ],
 "metadata": {
  "kernelspec": {
   "display_name": "Python 3",
   "language": "python",
   "name": "python3"
  },
  "language_info": {
   "codemirror_mode": {
    "name": "ipython",
    "version": 3
   },
   "file_extension": ".py",
   "mimetype": "text/x-python",
   "name": "python",
   "nbconvert_exporter": "python",
   "pygments_lexer": "ipython3",
   "version": "3.12.0"
  }
 },
 "nbformat": 4,
 "nbformat_minor": 2
}
